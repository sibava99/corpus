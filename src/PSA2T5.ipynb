{
 "cells": [
  {
   "cell_type": "code",
   "execution_count": 1,
   "metadata": {},
   "outputs": [
    {
     "name": "stdout",
     "output_type": "stream",
     "text": [
      "/home/sibava/corpus\n"
     ]
    }
   ],
   "source": [
    "%cd ~/corpus"
   ]
  },
  {
   "cell_type": "code",
   "execution_count": 2,
   "metadata": {},
   "outputs": [],
   "source": [
    "import json\n",
    "import jsonlines\n",
    "import pandas as pd\n",
    "from transformers import T5Tokenizer\n",
    "from pprint import pprint\n",
    "import copy\n",
    "import itertools\n",
    "from tqdm.auto import tqdm"
   ]
  },
  {
   "cell_type": "code",
   "execution_count": 3,
   "metadata": {},
   "outputs": [],
   "source": [
    "tokenizer = T5Tokenizer.from_pretrained('megagonlabs/t5-base-japanese-web')"
   ]
  },
  {
   "cell_type": "code",
   "execution_count": 4,
   "metadata": {},
   "outputs": [],
   "source": [
    "case_en_ja = {\n",
    "\t'ga':'が',\n",
    "\t'o':'を',\n",
    "\t'ni':'に'\n",
    "}"
   ]
  },
  {
   "cell_type": "code",
   "execution_count": 5,
   "metadata": {},
   "outputs": [],
   "source": [
    "psa_df = pd.read_json(\"/home/sibava/corpus/psa_instanceC.jsonl\",orient='records',lines=True)\n",
    "outputfile = open(\"/home/sibava/corpus/psat5instance.jsonl\",mode='w')"
   ]
  },
  {
   "cell_type": "code",
   "execution_count": 6,
   "metadata": {},
   "outputs": [],
   "source": [
    "psa_df['arg_surface'].mask(psa_df['arg_type'] == 'exog','<extra_id_99>',inplace=True)\n",
    "psa_df['arg_surface'].mask(psa_df['arg_type'] == 'exo1','<extra_id_98>',inplace=True)\n",
    "psa_df['arg_surface'].mask(psa_df['arg_type'] == 'exo2','<extra_id_97>',inplace=True)"
   ]
  },
  {
   "cell_type": "code",
   "execution_count": 7,
   "metadata": {},
   "outputs": [],
   "source": [
    "ga_df = psa_df.iloc[::3,].reset_index(drop=True)\n",
    "o_df = psa_df.iloc[1::3,].reset_index(drop=True)\n",
    "ni_df = psa_df.iloc[2::3,].reset_index(drop=True)"
   ]
  },
  {
   "cell_type": "code",
   "execution_count": 8,
   "metadata": {},
   "outputs": [],
   "source": [
    "for df,case in zip([ga_df,o_df,ni_df],['が','を','に']):\n",
    "\tdf['arg_surface'].mask(df['arg_type'] == 'none','',inplace=True)\n",
    "\tdf['arg_surface'].where(df['arg_type'] == 'none',df['arg_surface'] + case,inplace=True)"
   ]
  },
  {
   "cell_type": "code",
   "execution_count": 9,
   "metadata": {},
   "outputs": [],
   "source": [
    "input_ids = []\n",
    "for context,pred_sent_index,pred_indices in zip(ga_df['context'].values,ga_df['pred_sent_index'].values,ga_df['pred_indices'].values):\n",
    "\tpred_h = pred_indices[0]\n",
    "\tpred_t = pred_indices[-1]\n",
    "\tinput_text = context[pred_sent_index][:pred_h] + [\"<extra_id_0>\"] + context[pred_sent_index][pred_h:pred_t +1] + [\"<extra_id_1>\"] + context[pred_sent_index][pred_t +1:]\n",
    "\tconcated_context = ''.join(list(itertools.chain.from_iterable(input_text)))\n",
    "\tpadded_input_ids = tokenizer.encode(concated_context,max_length=512,padding=\"max_length\")\n",
    "\ttruncated_input_ids = padded_input_ids[len(padded_input_ids)-512:]\n",
    "\tinput_ids.append(truncated_input_ids)"
   ]
  },
  {
   "cell_type": "code",
   "execution_count": 17,
   "metadata": {},
   "outputs": [],
   "source": [
    "gold_arguments = {\n",
    "\t'ga':ga_df['goldchain'],\n",
    "\t'o':o_df['goldchain'],\n",
    "\t'ni':ni_df['goldchain'],\n",
    "}"
   ]
  },
  {
   "cell_type": "code",
   "execution_count": null,
   "metadata": {},
   "outputs": [],
   "source": [
    "ga"
   ]
  },
  {
   "cell_type": "code",
   "execution_count": 19,
   "metadata": {},
   "outputs": [],
   "source": [
    "t5_df = pd.DataFrame({\n",
    "\t\"input_ids\":input_ids,\n",
    "\t\"labels\":ga_df['arg_surface'].str.cat(o_df['arg_surface'].str.cat(ni_df['arg_surface'].str.cat(ga_df['pred_surface'])))\n",
    "})"
   ]
  },
  {
   "cell_type": "code",
   "execution_count": null,
   "metadata": {},
   "outputs": [],
   "source": [
    "t5_df.to_json(orient='records',lines=True)"
   ]
  }
 ],
 "metadata": {
  "kernelspec": {
   "display_name": "Python 3.9.7 ('konno')",
   "language": "python",
   "name": "python3"
  },
  "language_info": {
   "codemirror_mode": {
    "name": "ipython",
    "version": 3
   },
   "file_extension": ".py",
   "mimetype": "text/x-python",
   "name": "python",
   "nbconvert_exporter": "python",
   "pygments_lexer": "ipython3",
   "version": "3.9.7"
  },
  "orig_nbformat": 4,
  "vscode": {
   "interpreter": {
    "hash": "029fc847862d54ba801e2d4d2d377fbdf108563c998b3c7f6829b4b4bbeb9ce4"
   }
  }
 },
 "nbformat": 4,
 "nbformat_minor": 2
}
