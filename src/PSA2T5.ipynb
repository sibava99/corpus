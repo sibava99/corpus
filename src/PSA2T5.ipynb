{
 "cells": [
  {
   "cell_type": "code",
   "execution_count": 1,
   "metadata": {},
   "outputs": [
    {
     "name": "stdout",
     "output_type": "stream",
     "text": [
      "/home/sibava/corpus\n"
     ]
    }
   ],
   "source": [
    "%cd ~/corpus"
   ]
  },
  {
   "cell_type": "code",
   "execution_count": 2,
   "metadata": {},
   "outputs": [],
   "source": [
    "import json\n",
    "import jsonlines\n",
    "import pandas as pd\n",
    "from transformers import T5Tokenizer\n",
    "from pprint import pprint\n",
    "import copy\n",
    "import itertools\n",
    "from tqdm.auto import tqdm"
   ]
  },
  {
   "cell_type": "code",
   "execution_count": 3,
   "metadata": {},
   "outputs": [],
   "source": [
    "tokenizer = T5Tokenizer.from_pretrained('megagonlabs/t5-base-japanese-web')"
   ]
  },
  {
   "cell_type": "code",
   "execution_count": 4,
   "metadata": {},
   "outputs": [],
   "source": [
    "case_en_ja = {\n",
    "\t'ga':'が',\n",
    "\t'o':'を',\n",
    "\t'ni':'に'\n",
    "}"
   ]
  },
  {
   "cell_type": "code",
   "execution_count": 5,
   "metadata": {},
   "outputs": [],
   "source": [
    "psa_df = pd.read_json(\"/home/sibava/corpus/psa_instanceC.jsonl\",orient='records',lines=True)\n",
    "outputfile = open(\"/home/sibava/corpus/psat5instance.jsonl\",mode='w')"
   ]
  },
  {
   "cell_type": "code",
   "execution_count": null,
   "metadata": {},
   "outputs": [],
   "source": [
    "df['arg_surface'].mask(df['arg_type'] == 'exog','<extra_id_99>',inplace=True)\n",
    "df['arg_surface'].mask(df['arg_type'] == 'exo1','<extra_id_98>',inplace=True)\n",
    "df['arg_surface'].mask(df['arg_type'] == 'exo2','<extra_id_97>',inplace=True)"
   ]
  },
  {
   "cell_type": "code",
   "execution_count": 16,
   "metadata": {},
   "outputs": [],
   "source": [
    "ga_df = psa_df.iloc[::3,].reset_index(drop=True)\n",
    "o_df = psa_df.iloc[1::3,].reset_index(drop=True)\n",
    "ni_df = psa_df.iloc[2::3,].reset_index(drop=True)"
   ]
  },
  {
   "cell_type": "code",
   "execution_count": 17,
   "metadata": {},
   "outputs": [],
   "source": [
    "for df,case in zip([ga_df,o_df,ni_df],['が','を','に']):\n",
    "\tdf['arg_surface'].mask(df['arg_type'] == 'none','',inplace=True)\n",
    "\tdf['arg_surface'].where(df['arg_type'] == 'none',df['arg_surface'] + case,inplace=True)"
   ]
  },
  {
   "cell_type": "code",
   "execution_count": 18,
   "metadata": {},
   "outputs": [],
   "source": [
    "t5_df = pd.DataFrame({\n",
    "\t\"labels\":ga_df['arg_surface'].str.cat(o_df['arg_surface'].str.cat(ni_df['arg_surface']))\n",
    "})"
   ]
  },
  {
   "cell_type": "code",
   "execution_count": 19,
   "metadata": {},
   "outputs": [
    {
     "data": {
      "text/html": [
       "<div>\n",
       "<style scoped>\n",
       "    .dataframe tbody tr th:only-of-type {\n",
       "        vertical-align: middle;\n",
       "    }\n",
       "\n",
       "    .dataframe tbody tr th {\n",
       "        vertical-align: top;\n",
       "    }\n",
       "\n",
       "    .dataframe thead th {\n",
       "        text-align: right;\n",
       "    }\n",
       "</style>\n",
       "<table border=\"1\" class=\"dataframe\">\n",
       "  <thead>\n",
       "    <tr style=\"text-align: right;\">\n",
       "      <th></th>\n",
       "      <th>labels</th>\n",
       "    </tr>\n",
       "  </thead>\n",
       "  <tbody>\n",
       "    <tr>\n",
       "      <th>0</th>\n",
       "      <td>首相が</td>\n",
       "    </tr>\n",
       "    <tr>\n",
       "      <th>1</th>\n",
       "      <td>問題が影響を政権に</td>\n",
       "    </tr>\n",
       "    <tr>\n",
       "      <th>2</th>\n",
       "      <td>問題がことに</td>\n",
       "    </tr>\n",
       "    <tr>\n",
       "      <th>3</th>\n",
       "      <td>離党者が</td>\n",
       "    </tr>\n",
       "    <tr>\n",
       "      <th>4</th>\n",
       "      <td>問題が範囲に</td>\n",
       "    </tr>\n",
       "    <tr>\n",
       "      <th>...</th>\n",
       "      <td>...</td>\n",
       "    </tr>\n",
       "    <tr>\n",
       "      <th>108994</th>\n",
       "      <td>exogが責任を</td>\n",
       "    </tr>\n",
       "    <tr>\n",
       "      <th>108995</th>\n",
       "      <td>公職者が</td>\n",
       "    </tr>\n",
       "    <tr>\n",
       "      <th>108996</th>\n",
       "      <td>義務が悪習を</td>\n",
       "    </tr>\n",
       "    <tr>\n",
       "      <th>108997</th>\n",
       "      <td>うそが</td>\n",
       "    </tr>\n",
       "    <tr>\n",
       "      <th>108998</th>\n",
       "      <td>exogが社会を</td>\n",
       "    </tr>\n",
       "  </tbody>\n",
       "</table>\n",
       "<p>108999 rows × 1 columns</p>\n",
       "</div>"
      ],
      "text/plain": [
       "           labels\n",
       "0             首相が\n",
       "1       問題が影響を政権に\n",
       "2          問題がことに\n",
       "3            離党者が\n",
       "4          問題が範囲に\n",
       "...           ...\n",
       "108994   exogが責任を\n",
       "108995       公職者が\n",
       "108996     義務が悪習を\n",
       "108997        うそが\n",
       "108998   exogが社会を\n",
       "\n",
       "[108999 rows x 1 columns]"
      ]
     },
     "execution_count": 19,
     "metadata": {},
     "output_type": "execute_result"
    }
   ],
   "source": [
    "t5_df"
   ]
  }
 ],
 "metadata": {
  "kernelspec": {
   "display_name": "Python 3.9.7 ('konno')",
   "language": "python",
   "name": "python3"
  },
  "language_info": {
   "codemirror_mode": {
    "name": "ipython",
    "version": 3
   },
   "file_extension": ".py",
   "mimetype": "text/x-python",
   "name": "python",
   "nbconvert_exporter": "python",
   "pygments_lexer": "ipython3",
   "version": "3.9.7"
  },
  "orig_nbformat": 4,
  "vscode": {
   "interpreter": {
    "hash": "029fc847862d54ba801e2d4d2d377fbdf108563c998b3c7f6829b4b4bbeb9ce4"
   }
  }
 },
 "nbformat": 4,
 "nbformat_minor": 2
}
