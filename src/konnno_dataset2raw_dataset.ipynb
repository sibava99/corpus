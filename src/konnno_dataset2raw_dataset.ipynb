{
 "cells": [
  {
   "cell_type": "code",
   "execution_count": 1,
   "metadata": {},
   "outputs": [
    {
     "name": "stdout",
     "output_type": "stream",
     "text": [
      "/home/sibava/corpus\n"
     ]
    }
   ],
   "source": [
    "%cd ~/corpus"
   ]
  },
  {
   "cell_type": "code",
   "execution_count": 2,
   "metadata": {},
   "outputs": [],
   "source": [
    "import json\n",
    "import jsonlines\n",
    "from transformers import T5Tokenizer\n",
    "import pprint\n",
    "import copy\n",
    "import itertools\n",
    "from tqdm.auto import tqdm"
   ]
  },
  {
   "cell_type": "code",
   "execution_count": 3,
   "metadata": {},
   "outputs": [],
   "source": [
    "tokenizer = T5Tokenizer.from_pretrained('megagonlabs/t5-base-japanese-web')"
   ]
  },
  {
   "cell_type": "code",
   "execution_count": 4,
   "metadata": {},
   "outputs": [],
   "source": [
    "case_en_ja = {\n",
    "\t'ga':'が',\n",
    "\t'o':'を',\n",
    "\t'ni':'に'\n",
    "}"
   ]
  },
  {
   "cell_type": "code",
   "execution_count": 7,
   "metadata": {},
   "outputs": [
    {
     "data": {
      "application/vnd.jupyter.widget-view+json": {
       "model_id": "4d68c1caf669467cbd2526338d3ea587",
       "version_major": 2,
       "version_minor": 0
      },
      "text/plain": [
       "0it [00:00, ?it/s]"
      ]
     },
     "metadata": {},
     "output_type": "display_data"
    }
   ],
   "source": [
    "lines =  open(\"/home/sibava/corpus/ntc-train-with-juman-A/dev.doc.jsonl\")\n",
    "outputfile = open(\"/home/sibava/corpus/pas_dataset/pas_data.dev.jsonl\",mode='w')\n",
    "for line in tqdm(lines):\n",
    "\tdoc = json.loads(line)\n",
    "\tsents = doc[\"sents\"]\n",
    "\tpas_list = doc[\"pas_list\"]\n",
    "\tfor pas in pas_list:\n",
    "\t\tpas_dict = json.loads(pas)\n",
    "\t\tpredicate = \"\".join([sents[pas_dict[\"prd_sent_idx\"]][i] for i in pas_dict[\"predicate_positions\"]])\n",
    "\t\tpredicate_positions = pas_dict[\"predicate_positions\"]\n",
    "\t\tprd_sent_idx = pas_dict[\"prd_sent_idx\"]\n",
    "\t\talt_type = pas_dict[\"alt_type\"]\n",
    "\t\tcontext = copy.deepcopy(sents[0:pas_dict['prd_sent_idx'] + 1])\n",
    "\t\tcontext[prd_sent_idx].insert(predicate_positions[0],\"<extra_id_0>\")\n",
    "\t\tcontext[prd_sent_idx].insert(predicate_positions[-1] + 2,\"<extra_id_1>\")\n",
    "\t\targument_and_case = ''\n",
    "\t\tgold_arguments = {}\n",
    "\t\tcase_types = {}\n",
    "\t\tfor gold in pas_dict[\"gold_labels\"]:\n",
    "\t\t\tcase_type = gold['case_type']\n",
    "\t\t\tcase_name = gold['case_name']\n",
    "\t\t\tcase_types[case_name] = case_type\n",
    "\t\t\tif case_type == 'null':\n",
    "\t\t\t\tgold_arguments[case_name] = []\n",
    "\t\t\t\tcontinue\n",
    "\t\t\telif case_type.startswith('exog'):\n",
    "\t\t\t\tgolds_chain = ['<extra_id_99>']\n",
    "\t\t\t\tclosest_gold_argument = '<extra_id_99>'\n",
    "\t\t\telif case_type.startswith('exo1'):\n",
    "\t\t\t\tgolds_chain = ['<extra_id_98>']\n",
    "\t\t\t\tclosest_gold_argument = '<extra_id_98>'\n",
    "\t\t\telif case_type.startswith('exo2'):\n",
    "\t\t\t\tgolds_chain = ['<extra_id_97>']\n",
    "\t\t\t\tclosest_gold_argument = '<extra_id_97>'\n",
    "\t\t\telse:\n",
    "\t\t\t\tgolds_chain = [sents[x['sent_idx']][x['word_idx']] for x in gold['gold_positions']]\n",
    "\t\t\t\tfor x in gold['gold_positions']:\n",
    "\t\t\t\t\tif(x['case_type'] == case_type):\n",
    "\t\t\t\t\t\tclosest_gold_argument = sents[x['sent_idx']][x['word_idx']] \n",
    "\t\t\t\t\t\t#the gold argument that is closest to predicate.In inter setting,the first argument is selected.\n",
    "\t\t\t\t\t\tbreak\n",
    "\t\t\targument_and_case += closest_gold_argument + case_en_ja[case_name]\n",
    "\t\t\tgold_arguments[case_name] = list(set(golds_chain))\n",
    "\t\tconcated_context = ''.join(list(itertools.chain.from_iterable(context)))\n",
    "\t\tpadded_input_ids = tokenizer(concated_context,max_length=512,padding=\"max_length\").input_ids\n",
    "\t\tt5_pas_dict = {'input_ids':padded_input_ids[len(padded_input_ids)-512:]}\n",
    "\t\tt5_pas_dict['input_tokens'] = concated_context\n",
    "\t\tt5_pas_dict['labels'] = tokenizer(argument_and_case + predicate,max_length=30,padding=\"max_length\").input_ids\n",
    "\t\tt5_pas_dict['gold_arguments'] = gold_arguments\n",
    "\t\tt5_pas_dict['case_types'] = case_types\n",
    "\t\tt5_pas_dict['alt_type'] = alt_type\n",
    "\t\toutputfile.write(json.dumps(t5_pas_dict) + '\\n')\n",
    "outputfile.close()\n"
   ]
  },
  {
   "cell_type": "code",
   "execution_count": 15,
   "metadata": {},
   "outputs": [
    {
     "name": "stdout",
     "output_type": "stream",
     "text": [
      "{'alt_type': 'active',\n",
      " 'gold_labels': [{'case_name': 'ga',\n",
      "                  'case_type': 'intra',\n",
      "                  'gold_positions': [{'case_type': 'inter',\n",
      "                                      'sent_idx': 0,\n",
      "                                      'word_idx': 27},\n",
      "                                     {'case_type': 'intra',\n",
      "                                      'sent_idx': 1,\n",
      "                                      'word_idx': 0},\n",
      "                                     {'case_type': 'inter',\n",
      "                                      'sent_idx': 4,\n",
      "                                      'word_idx': 2},\n",
      "                                     {'case_type': 'inter',\n",
      "                                      'sent_idx': 4,\n",
      "                                      'word_idx': 18},\n",
      "                                     {'case_type': 'inter',\n",
      "                                      'sent_idx': 5,\n",
      "                                      'word_idx': 8},\n",
      "                                     {'case_type': 'inter',\n",
      "                                      'sent_idx': 6,\n",
      "                                      'word_idx': 0}]},\n",
      "                 {'case_name': 'o',\n",
      "                  'case_type': 'dep',\n",
      "                  'gold_positions': [{'case_type': 'dep',\n",
      "                                      'sent_idx': 1,\n",
      "                                      'word_idx': 10}]},\n",
      "                 {'case_name': 'ni',\n",
      "                  'case_type': 'null',\n",
      "                  'gold_positions': []}],\n",
      " 'prd_sent_idx': 1,\n",
      " 'predicate_positions': [12]}\n"
     ]
    }
   ],
   "source": [
    "pprint.pprint(json.loads(pas_list[4]))"
   ]
  }
 ],
 "metadata": {
  "interpreter": {
   "hash": "efa68630bf1da3d119da1b658205b9eeb217c7d756239cf5f456c0569343e0b9"
  },
  "kernelspec": {
   "display_name": "Python 3.9.6 ('kakukoutai')",
   "language": "python",
   "name": "python3"
  },
  "language_info": {
   "codemirror_mode": {
    "name": "ipython",
    "version": 3
   },
   "file_extension": ".py",
   "mimetype": "text/x-python",
   "name": "python",
   "nbconvert_exporter": "python",
   "pygments_lexer": "ipython3",
   "version": "3.9.6"
  },
  "orig_nbformat": 4
 },
 "nbformat": 4,
 "nbformat_minor": 2
}
